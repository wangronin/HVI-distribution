{
 "cells": [
  {
   "cell_type": "code",
   "execution_count": null,
   "id": "01a040fe",
   "metadata": {},
   "outputs": [],
   "source": [
    "import matplotlib.pyplot as plt\n",
    "import numpy as np\n",
    "\n",
    "from hv_improvement import HypervolumeImprovement\n",
    "\n",
    "r = np.array([6, 6])\n",
    "\n",
    "# Pareto-front approximation set\n",
    "pf = np.array([[3, 4], [1, 5], [5, 1]])\n",
    "\n",
    "mu = np.array([2, 3])  # mean of f1 and f2\n",
    "sigma = np.array([1, 1])  # standard deviation\n"
   ]
  },
  {
   "cell_type": "code",
   "execution_count": null,
   "id": "c193c9d1",
   "metadata": {},
   "outputs": [],
   "source": [
    "print(pf)"
   ]
  },
  {
   "cell_type": "code",
   "execution_count": null,
   "id": "3e09cf47",
   "metadata": {},
   "outputs": [],
   "source": [
    "avals = 10 ** np.linspace(-10, np.log10(1e10), 10)\n",
    "hvi = HypervolumeImprovement(pf, r, mu, sigma)\n",
    "\n",
    "rst_all_ex = hvi.cdf(avals, taylor_expansion=False)\n",
    "# rst_all_ex2 = hvi.pdf(avals, taylor_expansion=True)\n",
    "# rst_all_ex2.sort()\n",
    "rst_all_ex.sort()\n",
    "print(rst_all_ex)\n",
    "\n",
    "rst_all_mc, sd = hvi.cdf_monte_carlo(avals, n_sample=1e5, eval_sd=True)\n",
    "print(rst_all_mc)\n",
    "\n",
    "plt.semilogx(avals, rst_all_ex, \"r-\")\n",
    "plt.semilogx(avals, rst_all_mc, \"bs\", mfc=\"none\")\n",
    "plt.semilogx(avals, rst_all_mc + 3 * sd, \"b-\", alpha=0.5)\n",
    "plt.semilogx(avals, rst_all_mc - 3 * sd, \"b-\", mfc=\"none\", alpha=0.5)\n",
    "plt.show()"
   ]
  },
  {
   "cell_type": "code",
   "execution_count": null,
   "id": "ad376c52",
   "metadata": {},
   "outputs": [],
   "source": []
  }
 ],
 "metadata": {
  "kernelspec": {
   "display_name": "Python 3",
   "language": "python",
   "name": "python3"
  },
  "language_info": {
   "codemirror_mode": {
    "name": "ipython",
    "version": 3
   },
   "file_extension": ".py",
   "mimetype": "text/x-python",
   "name": "python",
   "nbconvert_exporter": "python",
   "pygments_lexer": "ipython3",
   "version": "3.7.4"
  }
 },
 "nbformat": 4,
 "nbformat_minor": 5
}
