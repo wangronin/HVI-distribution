{
 "cells": [
  {
   "cell_type": "code",
   "execution_count": 8,
   "metadata": {},
   "outputs": [
    {
     "name": "stdout",
     "output_type": "stream",
     "text": [
      "Using matplotlib backend: MacOSX\n",
      "Populating the interactive namespace from numpy and matplotlib\n"
     ]
    }
   ],
   "source": [
    "%pylab\n",
    "%matplotlib inline\n",
    "\n",
    "from scipy.integrate import quad\n",
    "from scipy.stats import gaussian_kde\n",
    "from scipy.stats import norm"
   ]
  },
  {
   "cell_type": "code",
   "execution_count": 20,
   "metadata": {},
   "outputs": [],
   "source": [
    "# reference point\n",
    "r = np.array([6, 6])\n",
    "\n",
    "# Pareto-front approximation set\n",
    "pf = np.array([[3, 4], [1, 5], [5, 1]])\n",
    "\n",
    "mu = np.array([-1, 4])  # mean of f1 and f2\n",
    "ss = np.array([1, 1])  # variance, not std"
   ]
  },
  {
   "cell_type": "code",
   "execution_count": 29,
   "metadata": {},
   "outputs": [],
   "source": [
    "# Eq.(4)\n",
    "def original(x, mean, variance, p):\n",
    "    return (\n",
    "        np.exp(-0.5 * ((x - mean[0]) ** 2 / variance[0] + (p / x - mean[1]) ** 2 / variance[1]))\n",
    "        / x\n",
    "    )\n",
    "\n",
    "def get_D(L, U, loc, scale):\n",
    "    return norm.cdf(U, loc, scale) - norm.cdf(L, loc, scale)\n",
    "\n",
    "def density_in_cell(mean, variance, truncatedLB, truncatedUB, p):\n",
    "    L1, L2 = truncatedLB\n",
    "    U1, U2 = truncatedUB\n",
    "\n",
    "    if L1 * U2 > U1 * L2:  # swap y_1' and y_2'\n",
    "        L2, L1 = truncatedLB\n",
    "        U2, U1 = truncatedUB\n",
    "        mean = mean[1], mean[0]\n",
    "        variance = variance[1], variance[0]\n",
    "        \n",
    "    D1, D2 = get_D(L1, U1, mean[0], variance[0] ** 0.5), get_D(L2, U2, mean[1], variance[1] ** 0.5)\n",
    "\n",
    "    if L1 * L2 <= p < L1 * U2:\n",
    "        alpha = L1\n",
    "        belta = p / L2\n",
    "    elif L1 * U2 <= p < U1 * L2:\n",
    "        alpha = p / U2\n",
    "        belta = p / L2\n",
    "    elif U1 * L2 <= p <= U1 * U2:\n",
    "        alpha = p / U2\n",
    "        belta = U1\n",
    "    else:\n",
    "        print(\"error in lb and ub\")\n",
    "\n",
    "    res = quad(\n",
    "        original,\n",
    "        alpha,\n",
    "        belta,\n",
    "        args=(mean, variance, p),\n",
    "        limit=1000,\n",
    "        epsabs=1e-30,\n",
    "        epsrel=1e-10\n",
    "    )[0]\n",
    "    return res / (2 * np.pi * np.sqrt(variance[0]) * np.sqrt(variance[1]) * D1 * D2)"
   ]
  },
  {
   "cell_type": "code",
   "execution_count": 30,
   "metadata": {},
   "outputs": [
    {
     "name": "stderr",
     "output_type": "stream",
     "text": [
      "<ipython-input-29-429996bf416f>:4: RuntimeWarning: invalid value encountered in double_scalars\n",
      "  np.exp(-0.5 * ((x - mean[0]) ** 2 / variance[0] + (p / x - mean[1]) ** 2 / variance[1]))\n",
      "<ipython-input-29-429996bf416f>:35: IntegrationWarning: Extremely bad integrand behavior occurs at some points of the\n",
      "  integration interval.\n",
      "  res = quad(\n"
     ]
    }
   ],
   "source": [
    "L1, L2, U1, U2 = 0, 2, 2.5, 2.5\n",
    "pvals = np.linspace(L1 * L2, U1 * U2, 500)\n",
    "rst_new = [density_in_cell(mu, ss, [L1, L2], [U1, U2], p) for p in pvals]"
   ]
  },
  {
   "cell_type": "code",
   "execution_count": 26,
   "metadata": {},
   "outputs": [
    {
     "data": {
      "text/plain": [
       "array([1.06861817, 1.0940634 , 1.07351841, 1.31037291, 1.95797191,\n",
       "       1.38476049, 1.00043913, 1.27412998, 1.13362675, 1.34539871])"
      ]
     },
     "execution_count": 26,
     "metadata": {},
     "output_type": "execute_result"
    }
   ],
   "source": [
    "from scipy.stats import norm\n",
    "\n",
    "def rcond_norm(N, loc, scale, L=1, U=2):\n",
    "    alpha = norm.cdf(L, loc, scale)\n",
    "    beta = norm.cdf(U, loc, scale)\n",
    "    Z = beta - alpha \n",
    "    return norm.ppf(np.random.rand(int(N)) * Z + alpha, loc, scale)\n",
    "\n",
    "assert np.all(rcond_norm(1000, -0.5, 10) >= 1) and np.all(rcond_norm(1000, 20, 10) <= 2)\n",
    "rcond_norm(10, mu[0], ss[0])"
   ]
  },
  {
   "cell_type": "code",
   "execution_count": 27,
   "metadata": {},
   "outputs": [],
   "source": [
    "def sample(mean, variance, lower, upper, N=1e3):\n",
    "    return rcond_norm(N, mean[0], variance[0] ** 0.5, lower[0], upper[0]) * rcond_norm(N, mean[1], variance[1] ** 0.5, lower[1], upper[1])\n",
    "\n",
    "# s = sample(mu, ss, (L1, L2), (U1, U2), int(1e6))\n",
    "# density = gaussian_kde(s)\n",
    "\n",
    "x = rcond_norm(1e6, mu[0], ss[0] ** 0.5, L1, U1)\n",
    "y = rcond_norm(1e6, mu[1], ss[1] ** 0.5, L2, U2)"
   ]
  },
  {
   "cell_type": "code",
   "execution_count": 31,
   "metadata": {},
   "outputs": [
    {
     "data": {
      "text/plain": [
       "[<matplotlib.lines.Line2D at 0x12b10fc10>]"
      ]
     },
     "execution_count": 31,
     "metadata": {},
     "output_type": "execute_result"
    },
    {
     "data": {
      "image/png": "[encoded data removed]",
      "text/plain": [
       "<Figure size 640x480 with 1 Axes>"
      ]
     },
     "metadata": {},
     "output_type": "display_data"
    }
   ],
   "source": [
    "n, bins, patches = plt.hist(x, 100, density=True, facecolor='g', alpha=0.4)\n",
    "n, bins, patches = plt.hist(y, 100, density=True, facecolor='r', alpha=0.4)\n",
    "n, bins, patches = plt.hist(x * y, 100, density=True, facecolor='b', alpha=0.4)\n",
    "plt.plot(pvals, rst_new, 'r-')"
   ]
  },
  {
   "cell_type": "code",
   "execution_count": null,
   "metadata": {},
   "outputs": [],
   "source": []
  }
 ],
 "metadata": {
  "kernelspec": {
   "display_name": "Python 3",
   "language": "python",
   "name": "python3"
  },
  "language_info": {
   "codemirror_mode": {
    "name": "ipython",
    "version": 3
   },
   "file_extension": ".py",
   "mimetype": "text/x-python",
   "name": "python",
   "nbconvert_exporter": "python",
   "pygments_lexer": "ipython3",
   "version": "3.9.5"
  }
 },
 "nbformat": 4,
 "nbformat_minor": 4
}
