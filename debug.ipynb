{
 "cells": [
  {
   "cell_type": "code",
   "execution_count": 1,
   "metadata": {},
   "outputs": [
    {
     "name": "stdout",
     "output_type": "stream",
     "text": [
      "Using matplotlib backend: MacOSX\n",
      "Populating the interactive namespace from numpy and matplotlib\n"
     ]
    }
   ],
   "source": [
    "%pylab\n",
    "%matplotlib inline\n",
    "\n",
    "from scipy.integrate import quad"
   ]
  },
  {
   "cell_type": "code",
   "execution_count": 4,
   "metadata": {},
   "outputs": [],
   "source": [
    "def integrand1(x, s, a=7.96809574e-06, b=1.19521436e-05, p=0.00019306977288832455):\n",
    "    return x ** (s - 1) * np.exp(-0.5 * x ** 2 / a - 0.5 * p ** 2 * x ** (-2) / b)\n",
    "\n",
    "def integrand_original(x, mean, variance, p):\n",
    "    return np.exp(-0.5 * ( (x-mean[0]) ** 2 / variance[0] + (p / x - mean[1]) ** 2 / variance[1]) ) / x"
   ]
  },
  {
   "cell_type": "code",
   "execution_count": 6,
   "metadata": {},
   "outputs": [],
   "source": [
    "m = 0\n",
    "n = 15\n",
    "s = 2 * m - n\n",
    "\n",
    "x = linspace(0.008, 0.03, 500)\n",
    "y = [integrand1(_, s = s) for _ in x]"
   ]
  },
  {
   "cell_type": "code",
   "execution_count": 7,
   "metadata": {},
   "outputs": [
    {
     "data": {
      "text/plain": [
       "[<matplotlib.lines.Line2D at 0x7f86e8020090>]"
      ]
     },
     "execution_count": 7,
     "metadata": {},
     "output_type": "execute_result"
    },
    {
     "data": {
      "image/png": "[encoded data removed]",
      "text/plain": [
       "<Figure size 432x288 with 1 Axes>"
      ]
     },
     "metadata": {
      "needs_background": "light"
     },
     "output_type": "display_data"
    }
   ],
   "source": [
    "plot(x, y)\n",
    "# vlines(0.010310017671626957, 0, 4e22, colors = 'k')"
   ]
  },
  {
   "cell_type": "code",
   "execution_count": 8,
   "metadata": {},
   "outputs": [],
   "source": [
    "tmp = quad(\n",
    "    integrand1,\n",
    "    0,\n",
    "    1,\n",
    "    args=(s, ),\n",
    "    limit=1000,\n",
    "    epsabs=1e-30,\n",
    "    epsrel=1e-10\n",
    ")"
   ]
  },
  {
   "cell_type": "code",
   "execution_count": 9,
   "metadata": {},
   "outputs": [],
   "source": [
    "mean = (0.8, 2.2)\n",
    "variance = (1, 2)\n",
    "p = 0.00019306977288832455\n",
    "\n",
    "res = quad(\n",
    "    integrand_original,\n",
    "    0,\n",
    "    1,\n",
    "    args=(mean, variance, p),\n",
    "    limit=1000,\n",
    "    epsabs=1e-30,\n",
    "    epsrel=1e-10,\n",
    "    full_output=1\n",
    ")"
   ]
  },
  {
   "cell_type": "code",
   "execution_count": 10,
   "metadata": {},
   "outputs": [
    {
     "data": {
      "text/plain": [
       "(3.1628066040379954, 7.467068356334378e-14)"
      ]
     },
     "execution_count": 10,
     "metadata": {},
     "output_type": "execute_result"
    }
   ],
   "source": [
    "res[0], res[1]"
   ]
  },
  {
   "cell_type": "code",
   "execution_count": 11,
   "metadata": {},
   "outputs": [],
   "source": [
    "def func(mean, variance, p):\n",
    "    if p <= 2:\n",
    "         res = quad(\n",
    "            integrand_original,\n",
    "            1,\n",
    "            p,\n",
    "            args=(mean, variance, p),\n",
    "            limit=1000,\n",
    "            epsabs=1e-30,\n",
    "            epsrel=1e-10\n",
    "        )[0]\n",
    "    if p > 2:\n",
    "        res = quad(\n",
    "            integrand_original,\n",
    "            p / 2,\n",
    "            2,\n",
    "            args=(mean, variance, p),\n",
    "            limit=1000,\n",
    "            epsabs=1e-30,\n",
    "            epsrel=1e-10\n",
    "        )[0]\n",
    "    D1 = norm.cdf(2, mean[0], variance[0] ** 0.5) - norm.cdf(1, mean[0], variance[0] ** 0.5)\n",
    "    D2 = norm.cdf(2, mean[1], variance[1] ** 0.5) - norm.cdf(1, mean[1], variance[1] ** 0.5)\n",
    "    return res / (2 * np.pi * np.sqrt(variance[0] * variance[1]) * D1 * D2)\n",
    "\n",
    "def func_Taylor(mean, variance, p, nTaylor=10):\n",
    "    faInCell = np.zeros((nTaylor, nTaylor + 1))\n",
    "    for n in range(nTaylor):\n",
    "        for m in range(n + 1):\n",
    "            tmp = quad(\n",
    "                integrand1,\n",
    "                0,\n",
    "                1.0,\n",
    "                args=(2 * m - n, variance[0], variance[1], p),\n",
    "                limit=1000,\n",
    "                epsabs=1e-30,\n",
    "                epsrel=1e-10\n",
    "            )\n",
    "\n",
    "            faInCell[n, m] = (\n",
    "                p ** (n - m)\n",
    "                / math.factorial(n)\n",
    "                * (math.factorial(n) / math.factorial(m) / math.factorial(n - m))\n",
    "                * (mean[0] / variance[0]) ** m\n",
    "                * (mean[1] / variance[1]) ** (n - m)\n",
    "                * tmp[0]\n",
    "            )\n",
    "    return np.sum(faInCell) * np.exp(-0.5 * (mean[0] ** 2 / variance[0] ** 2 + mean[1] ** 2 / variance[1] ** 2))"
   ]
  },
  {
   "cell_type": "code",
   "execution_count": 27,
   "metadata": {},
   "outputs": [
    {
     "data": {
      "text/plain": [
       "array([1.47931894, 1.87057707, 1.46607322, 1.71592344, 1.08339159,\n",
       "       1.10153074, 1.08986347, 1.52085215, 1.16853009, 1.14818077])"
      ]
     },
     "execution_count": 27,
     "metadata": {},
     "output_type": "execute_result"
    }
   ],
   "source": [
    "from scipy.stats import norm\n",
    "\n",
    "def rcond_norm(N, loc, scale):\n",
    "    alpha = norm.cdf(1, loc, scale)\n",
    "    beta = norm.cdf(2, loc, scale)\n",
    "    Z = beta - alpha \n",
    "    return norm.ppf(np.random.rand(int(N)) * Z + alpha, loc, scale)\n",
    "\n",
    "assert np.all(rcond_norm(1000, -0.5, 10) >= 1) and  np.all(rcond_norm(1000, 20, 10) <= 2)\n",
    "rcond_norm(10, mean[0], variance[0])"
   ]
  },
  {
   "cell_type": "code",
   "execution_count": 28,
   "metadata": {},
   "outputs": [
    {
     "name": "stdout",
     "output_type": "stream",
     "text": [
      "(0.8, 2.2)\n"
     ]
    },
    {
     "data": {
      "image/png": "[encoded data removed]",
      "text/plain": [
       "<Figure size 432x288 with 1 Axes>"
      ]
     },
     "metadata": {
      "needs_background": "light"
     },
     "output_type": "display_data"
    }
   ],
   "source": [
    "\n",
    "def sample(mean, variance, N=1e3):\n",
    "    return rcond_norm(N, mean[0], variance[0] ** 0.5) * rcond_norm(N, mean[1], variance[1] ** 0.5)\n",
    "\n",
    "s = sample(mean, variance, int(1e6))\n",
    "density = gaussian_kde(s)\n",
    "\n",
    "from scipy.stats import gaussian_kde\n",
    "x = rcond_norm(1e6, mean[0], variance[0])\n",
    "y = rcond_norm(1e6, mean[1], variance[1])\n",
    "\n",
    "print(mean)\n",
    "# print(y)\n",
    "\n",
    "n, bins, patches = plt.hist(x, 100, density=True, facecolor='g', alpha=0.4)\n",
    "n, bins, patches = plt.hist(y, 100, density=True, facecolor='r', alpha=0.4)\n",
    "n, bins, patches = plt.hist(x * y, 100, density=True, facecolor='b', alpha=0.4)"
   ]
  },
  {
   "cell_type": "code",
   "execution_count": 16,
   "metadata": {},
   "outputs": [],
   "source": [
    "# pvals = 10 ** np.linspace(-5, 0, 50)\n",
    "pvals = np.linspace(1, 4, 200)\n",
    "potentials = list(map(lambda p: func(mean, variance, p), pvals))\n",
    "# potentials_Taylor = list(\n",
    "#     map(\n",
    "#         lambda p: func_Taylor(mean, variance, p),\n",
    "#         pvals\n",
    "#     )\n",
    "# )"
   ]
  },
  {
   "cell_type": "code",
   "execution_count": 19,
   "metadata": {},
   "outputs": [
    {
     "data": {
      "image/png": "[encoded data removed]",
      "text/plain": [
       "<Figure size 432x288 with 1 Axes>"
      ]
     },
     "metadata": {
      "needs_background": "light"
     },
     "output_type": "display_data"
    }
   ],
   "source": [
    "plt.plot(pvals, potentials, 'r-')\n",
    "n, bins, patches = plt.hist(x * y, 100, density=True, facecolor='b', alpha=0.4)\n",
    "# plt.plot(pvals, density(pvals), 'k--')\n",
    "# plt.semilogx(pvals, potentials_Taylor, 'k--')"
   ]
  },
  {
   "cell_type": "code",
   "execution_count": 70,
   "metadata": {},
   "outputs": [],
   "source": [
    "from sympy.solvers import solve\n",
    "from sympy.abc import x, p, s, a, b\n",
    "\n",
    "expr = (s - 1) + (p ** 2 / b * x ** (-2) - x ** 2/ a)\n",
    "res = solve((s - 1) + (p ** 2 / b * x ** (-2) - x ** 2/ a), x)"
   ]
  },
  {
   "cell_type": "code",
   "execution_count": 71,
   "metadata": {},
   "outputs": [
    {
     "data": {
      "text/latex": [
       "$\\displaystyle \\frac{\\sqrt{2} \\sqrt{a s - a + \\frac{\\sqrt{a^{2} b^{2} s^{2} - 2 a^{2} b^{2} s + a^{2} b^{2} + 4 a b p^{2}}}{b}}}{2}$"
      ],
      "text/plain": [
       "sqrt(2)*sqrt(a*s - a + sqrt(a**2*b**2*s**2 - 2*a**2*b**2*s + a**2*b**2 + 4*a*b*p**2)/b)/2"
      ]
     },
     "execution_count": 71,
     "metadata": {},
     "output_type": "execute_result"
    }
   ],
   "source": [
    "expr = res[3]\n",
    "expr"
   ]
  },
  {
   "cell_type": "code",
   "execution_count": 72,
   "metadata": {},
   "outputs": [
    {
     "data": {
      "text/plain": [
       "[-0.0108117065311*sqrt(2)*I,\n",
       " 0.0108117065311*sqrt(2)*I,\n",
       " -0.00729028340976056*sqrt(2),\n",
       " 0.00729028340976056*sqrt(2)]"
      ]
     },
     "execution_count": 72,
     "metadata": {},
     "output_type": "execute_result"
    }
   ],
   "source": [
    "out = [_.subs([[a, 7.96809574e-06], [b, 1.19521436e-05], [s, -15], [p, 0.00019306977288832455]]) for _ in res]\n",
    "out"
   ]
  },
  {
   "cell_type": "code",
   "execution_count": 73,
   "metadata": {},
   "outputs": [
    {
     "data": {
      "text/plain": [
       "0.010310017671626957"
      ]
     },
     "execution_count": 73,
     "metadata": {},
     "output_type": "execute_result"
    }
   ],
   "source": [
    "float(out[-1])"
   ]
  },
  {
   "cell_type": "code",
   "execution_count": 74,
   "metadata": {},
   "outputs": [
    {
     "data": {
      "text/plain": [
       "3.310491898317922e+22"
      ]
     },
     "execution_count": 74,
     "metadata": {},
     "output_type": "execute_result"
    }
   ],
   "source": [
    "integrand1(float(out[-1]), -15)"
   ]
  }
 ],
 "metadata": {
  "kernelspec": {
   "display_name": "Python 3",
   "language": "python",
   "name": "python3"
  },
  "language_info": {
   "codemirror_mode": {
    "name": "ipython",
    "version": 3
   },
   "file_extension": ".py",
   "mimetype": "text/x-python",
   "name": "python",
   "nbconvert_exporter": "python",
   "pygments_lexer": "ipython3",
   "version": "3.7.4"
  }
 },
 "nbformat": 4,
 "nbformat_minor": 4
}
