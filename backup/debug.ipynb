{
 "cells": [
  {
   "cell_type": "code",
   "execution_count": 238,
   "metadata": {},
   "outputs": [
    {
     "name": "stdout",
     "output_type": "stream",
     "text": [
      "Using matplotlib backend: MacOSX\n",
      "Populating the interactive namespace from numpy and matplotlib\n"
     ]
    },
    {
     "name": "stderr",
     "output_type": "stream",
     "text": [
      "/usr/local/lib/python3.9/site-packages/IPython/core/magics/pylab.py:159: UserWarning: pylab import has clobbered these variables: ['norm', 'sample', 'f', 'float64', 'intc']\n",
      "`%matplotlib` prevents importing * from pylab and numpy\n",
      "  warn(\"pylab import has clobbered these variables: %s\"  % clobbered +\n"
     ]
    }
   ],
   "source": [
    "%pylab\n",
    "%matplotlib inline\n",
    "\n",
    "from typing import Callable, List, Tuple, Union\n",
    "import warnings\n",
    "from scipy.integrate import quad\n",
    "from scipy.stats import gaussian_kde\n",
    "from scipy.stats import norm, truncnorm\n",
    "from scipy.special import factorial"
   ]
  },
  {
   "cell_type": "code",
   "execution_count": 229,
   "metadata": {},
   "outputs": [],
   "source": [
    "# reference point\n",
    "r = np.array([6, 6])\n",
    "\n",
    "# Pareto-front approximation set\n",
    "pf = np.array([[3, 4], [1, 5], [5, 1]])\n",
    "\n",
    "mu = np.array([2, 3])    # mean of f1 and f2\n",
    "ss = np.array([0.5, 1])  # std.\n",
    "L1, L2, U1, U2 = 0.5, 0.3, 5, 7"
   ]
  },
  {
   "cell_type": "code",
   "execution_count": 286,
   "metadata": {},
   "outputs": [],
   "source": [
    "from numba import cfunc, jit, carray, prange\n",
    "from numba.types import CPointer, float64, intc\n",
    "from scipy import LowLevelCallable\n",
    "\n",
    "def jit_integrand(integrand_function):\n",
    "    jitted_function = jit(integrand_function, nopython=True, error_model=\"numpy\")\n",
    "\n",
    "    @cfunc(float64(intc, CPointer(float64)))\n",
    "    def wrapped(n, xx):\n",
    "        values = carray(xx, n)\n",
    "        return jitted_function(values)\n",
    "\n",
    "    return LowLevelCallable(wrapped.ctypes)\n",
    "\n",
    "# Eq.(4)\n",
    "@jit_integrand\n",
    "def integrand_eq4(args):\n",
    "    x, mu0, mu1, sigma0, sigma1, p = args\n",
    "    out = np.exp(-0.5 * (((x - mu0) / sigma0) ** 2 + ((p / x - mu1) / sigma1) ** 2)) / x\n",
    "    return out"
   ]
  },
  {
   "cell_type": "code",
   "execution_count": 338,
   "metadata": {},
   "outputs": [],
   "source": [
    "def pdf_product_of_truncated_gaussian(\n",
    "    p: float,\n",
    "    mean: List[float],\n",
    "    sigma: List[float],\n",
    "    lower: List[float],\n",
    "    upper: List[float],\n",
    "    normalizer: float\n",
    ") -> float:\n",
    "    if normalizer == 0:\n",
    "        return 0\n",
    "    \n",
    "    normalizer *= 2 * np.pi * np.prod(sigma)\n",
    "    (L1, L2), (U1, U2) = lower, upper\n",
    "    \n",
    "    if L1 * U2 > U1 * L2:  # swap y_1' and y_2'\n",
    "        (L2, L1), (U2, U1) = lower, upper\n",
    "        mean = mean[1], mean[0]\n",
    "        sigma = sigma[1], sigma[0]\n",
    "\n",
    "    if L1 * L2 <= p < L1 * U2:\n",
    "        alpha = L1\n",
    "        beta = p / L2\n",
    "    elif L1 * U2 <= p < U1 * L2:\n",
    "        alpha = p / U2\n",
    "        beta = p / L2\n",
    "    elif U1 * L2 <= p <= U1 * U2:\n",
    "        alpha = p / U2\n",
    "        beta = U1\n",
    "    else:\n",
    "        return 0\n",
    "\n",
    "    if alpha == beta:\n",
    "        return 0\n",
    "    \n",
    "    with warnings.catch_warnings():\n",
    "        warnings.simplefilter(\"error\")\n",
    "        try:\n",
    "            if alpha <= 0 <= beta:\n",
    "                out = (\n",
    "                    quad(\n",
    "                        integrand_eq4,\n",
    "                        alpha,\n",
    "                        -1 * sys.float_info.min,\n",
    "                        args=(mean[0], mean[1], sigma[0], sigma[1], p),\n",
    "                    )[0]\n",
    "                    + quad(\n",
    "                        integrand_eq4,\n",
    "                        sys.float_info.min,\n",
    "                        beta,\n",
    "                        args=(mean[0], mean[1], sigma[0], sigma[1], p),\n",
    "                    )[0]\n",
    "                )\n",
    "            else:\n",
    "                out = quad(\n",
    "                    integrand_eq4,\n",
    "                    alpha,\n",
    "                    beta,\n",
    "                    args=(mean[0], mean[1], sigma[0], sigma[1], p),\n",
    "                )[0]\n",
    "        except Warning:\n",
    "            out = 0\n",
    "            \n",
    "    return out / normalizer"
   ]
  },
  {
   "cell_type": "code",
   "execution_count": 311,
   "metadata": {},
   "outputs": [],
   "source": [
    "pvals = np.clip(10 ** np.linspace(np.log10(L1 * L2), np.log10(U1 * U2), 200), L1 * L2, U1 * U2)\n",
    "rst_new = [pdf_product_of_truncated_gaussian(p, mu, ss, [L1, L2], [U1, U2]) for p in pvals]"
   ]
  },
  {
   "cell_type": "code",
   "execution_count": 61,
   "metadata": {},
   "outputs": [],
   "source": [
    "from scipy.stats import norm\n",
    "\n",
    "def rcond_norm(N, loc, scale, L=1, U=2):\n",
    "#     alpha = norm.cdf(L, loc, scale)\n",
    "#     beta = norm.cdf(U, loc, scale)\n",
    "#     Z = beta - alpha \n",
    "#     return norm.ppf(np.random.rand(int(N)) * Z + alpha, loc, scale)\n",
    "    return truncnorm.rvs((L - loc) / scale, (U - loc) / scale, loc, scale, int(N))"
   ]
  },
  {
   "cell_type": "code",
   "execution_count": 230,
   "metadata": {},
   "outputs": [],
   "source": [
    "def sample(mean, sigma, lower, upper, N=1e3):\n",
    "    return rcond_norm(N, mean[0], sigma[0], lower[0], upper[0]) * rcond_norm(N, mean[1], sigma[1], lower[1], upper[1])\n",
    "\n",
    "x = rcond_norm(1e7, mu[0], ss[0], L1, U1)\n",
    "y = rcond_norm(1e7, mu[1], ss[1], L2, U2)"
   ]
  },
  {
   "cell_type": "code",
   "execution_count": 132,
   "metadata": {},
   "outputs": [
    {
     "data": {
      "text/plain": [
       "[<matplotlib.lines.Line2D at 0x12d612a00>]"
      ]
     },
     "execution_count": 132,
     "metadata": {},
     "output_type": "execute_result"
    },
    {
     "data": {
      "image/png": "[encoded data removed]",
      "text/plain": [
       "<Figure size 640x480 with 1 Axes>"
      ]
     },
     "metadata": {},
     "output_type": "display_data"
    }
   ],
   "source": [
    "a = x * y\n",
    "a = a[~np.isinf(a)]\n",
    "n, bins, patches = plt.hist(a, 100, density=True, facecolor='b', alpha=0.4)\n",
    "plt.plot(pvals, np.array(rst_new), 'r-')"
   ]
  },
  {
   "cell_type": "code",
   "execution_count": 334,
   "metadata": {},
   "outputs": [],
   "source": [
    "@jit(nopython=True, error_model=\"numpy\")\n",
    "def D(L, U, loc, scale):\n",
    "    out = 0.5 * (1 + erf((U - loc) / scale / np.sqrt(2))) - 0.5 * (1 + erf((L - loc) / scale / np.sqrt(2)))\n",
    "    return out"
   ]
  },
  {
   "cell_type": "code",
   "execution_count": 343,
   "metadata": {},
   "outputs": [],
   "source": [
    "def ecdf(s):\n",
    "    s = np.sort(s)\n",
    "    def inner(x):\n",
    "        return np.sum(s <= x) / len(s)\n",
    "    return inner\n",
    "\n",
    "def ecdf_from_pdf(a, mu, ss, lower, upper, normalizer):\n",
    "    return quad(\n",
    "        pdf_product_of_truncated_gaussian,\n",
    "        lower[0] * lower[1],\n",
    "        a,\n",
    "        args=(mu, ss, lower, upper, normalizer)\n",
    "    )[0]"
   ]
  },
  {
   "cell_type": "code",
   "execution_count": 335,
   "metadata": {},
   "outputs": [],
   "source": [
    "@jit(nopython=True, error_model=\"numpy\")\n",
    "def dnorm(x, mu, sigma):\n",
    "    return np.exp(-0.5 * (x - mu) ** 2 / sigma ** 2) / (np.sqrt(2 * np.pi) * sigma)\n",
    "\n",
    "@jit(nopython=True, error_model=\"numpy\")\n",
    "def erf(x: float) -> float:\n",
    "    p = 0.3275911\n",
    "    a1 = 0.254829592\n",
    "    a2 = -0.284496736\n",
    "    a3 = 1.421413741\n",
    "    a4 = -1.453152027\n",
    "    a5 = 1.061405429\n",
    "    \n",
    "    x_ = x if x >= 0 else -1.0 * x\n",
    "    t = 1 / (1 + p * x_)\n",
    "    out = 1 - (a1 * t + a2 * t ** 2 + a3 * t ** 3 + a4 * t ** 4 + a5 * t ** 5) * np.exp(-1. * x_ ** 2)\n",
    "    return out if x >=0 else -1.0 * out\n",
    "\n",
    "@jit_integrand\n",
    "def integrand_cdf(args):\n",
    "    x, a, mu0, mu1, sigma0, sigma1, L2 = args\n",
    "    return 0.5 * (1 + erf((a / x - mu1) / sigma1 / np.sqrt(2))) * dnorm(x, mu0, sigma0)\n",
    "    \n",
    "def cdf_product_of_truncated_gaussian(\n",
    "    p: float,\n",
    "    mean: List[float],\n",
    "    sigma: List[float],\n",
    "    lower: List[float],\n",
    "    upper: List[float],\n",
    "    normalizer: float\n",
    "):\n",
    "    if normalizer == 0:\n",
    "        return 0\n",
    "    \n",
    "    (L1, L2), (U1, U2) = lower, upper\n",
    "    if L1 * U2 > U1 * L2:  # swap y_1' and y_2'\n",
    "        (L2, L1), (U2, U1) = lower, upper\n",
    "        mean = mean[1], mean[0]\n",
    "        sigma = sigma[1], sigma[0]\n",
    "    \n",
    "    l, u = max(L1, p / U2), min(U1, p / L2)\n",
    "    term1 = max(D(L1, p / U2, mean[0], sigma[0]), 0) * D(L2, U2, mean[1], sigma[1]) - \\\n",
    "        D(l, u, mean[0], sigma[0]) * 0.5 * (1 + erf((L2 - mean[1]) / sigma[1] / np.sqrt(2)))\n",
    "    term2 = quad(\n",
    "        integrand_cdf, \n",
    "        l, \n",
    "        u, \n",
    "        args=(p, mean[0], mean[1], sigma[0], sigma[1], L2)\n",
    "    )[0]\n",
    "    return (term1 + term2) / normalizer"
   ]
  },
  {
   "cell_type": "code",
   "execution_count": 348,
   "metadata": {},
   "outputs": [
    {
     "data": {
      "image/png": "[encoded data removed]",
      "text/plain": [
       "<Figure size 640x480 with 1 Axes>"
      ]
     },
     "metadata": {},
     "output_type": "display_data"
    }
   ],
   "source": [
    "pvals = np.clip(10 ** np.linspace(np.log10(L1 * L2), np.log10(U1 * U2), 30), L1 * L2,  U1 * U2)\n",
    "normalizer = np.prod([D(lower[k], upper[k], mu[k], ss[k]) for k in range(len(ss))])\n",
    "\n",
    "f = ecdf(x * y)\n",
    "v = [f(_) for _ in pvals]\n",
    "v1 = [ecdf_from_pdf(a, mu, ss, [L1, L2], [U1, U2], normalizer) for a in pvals]\n",
    "v2 = [cdf_product_of_truncated_gaussian(a, mu, ss, [L1, L2], [U1, U2], normalizer) for a in pvals]\n",
    "\n",
    "plt.plot(pvals, v, 'k--')\n",
    "plt.plot(pvals, v1, 'gs', alpha=0.4, ms=8)\n",
    "plt.plot(pvals, v2, 'ro', alpha=0.4)\n",
    "plt.xscale('log')\n",
    "plt.yscale('log')"
   ]
  },
  {
   "cell_type": "code",
   "execution_count": 347,
   "metadata": {},
   "outputs": [
    {
     "name": "stdout",
     "output_type": "stream",
     "text": [
      "1.03 ms ± 241 µs per loop (mean ± std. dev. of 5 runs, 5 loops each)\n"
     ]
    }
   ],
   "source": [
    "%timeit -n 5 -r 5 [cdf_product_of_truncated_gaussian(a, mu, ss, [L1, L2], [U1, U2], normalizer) for a in pvals]"
   ]
  },
  {
   "cell_type": "code",
   "execution_count": 346,
   "metadata": {},
   "outputs": [
    {
     "name": "stdout",
     "output_type": "stream",
     "text": [
      "87.3 ms ± 943 µs per loop (mean ± std. dev. of 5 runs, 5 loops each)\n"
     ]
    }
   ],
   "source": [
    "%timeit -n 5 -r 5 [ecdf_from_pdf(a, mu, ss, [L1, L2], [U1, U2], normalizer) for a in pvals]"
   ]
  },
  {
   "cell_type": "code",
   "execution_count": 228,
   "metadata": {},
   "outputs": [
    {
     "data": {
      "text/plain": [
       "array([ 0.00000000e+00,  1.26145043e-23,  2.81241408e-23,  1.52201233e-22,\n",
       "        2.51462906e-22, -6.53803556e-21, -5.31968455e-18, -1.57961883e-15,\n",
       "        5.68223582e-17, -8.95359565e-16, -2.10503273e-15, -2.97938757e-16,\n",
       "       -2.37608327e-15, -1.63536719e-14, -1.17874460e-15, -1.03337477e-14,\n",
       "       -4.83179729e-12,  6.58708504e-12, -2.99188105e-12, -6.13389201e-12,\n",
       "       -3.87745391e-14,  9.19903043e-12, -4.29689617e-12,  2.09543494e-12,\n",
       "        6.86539714e-12, -4.44311254e-13, -5.62849767e-12,  6.12043749e-12,\n",
       "       -2.43161047e-12, -4.66859884e-12])"
      ]
     },
     "execution_count": 228,
     "metadata": {},
     "output_type": "execute_result"
    }
   ],
   "source": [
    "np.array(v1) - np.array(v2)"
   ]
  },
  {
   "cell_type": "code",
   "execution_count": 1,
   "metadata": {},
   "outputs": [],
   "source": [
    "import sys\n",
    "sys.path.insert(0, \"../\")\n",
    "from mobo.hv_improvement import HypervolumeImprovement\n",
    "\n",
    "r = np.array([6, 6])\n",
    "\n",
    "# Pareto-front approximation set\n",
    "pf = np.array([[3, 4], [1, 5], [5, 1]])\n",
    "\n",
    "mu = np.array([2, 3])  # mean of f1 and f2\n",
    "sigma = np.array([1, 1])  # standard deviation\n",
    "\n",
    "avals = 10 ** np.linspace(-10, np.log10(10), 10)\n",
    "hvi = HypervolumeImprovement(pf, r, mu, sigma)"
   ]
  },
  {
   "cell_type": "code",
   "execution_count": null,
   "metadata": {},
   "outputs": [],
   "source": [
    "%timeit -n 5 -r 5 hvi.cdf(avals, method=1)"
   ]
  },
  {
   "cell_type": "code",
   "execution_count": null,
   "metadata": {},
   "outputs": [],
   "source": [
    "%timeit -n 5 -r 5 hvi.cdf(avals, method=2)"
   ]
  },
  {
   "cell_type": "code",
   "execution_count": null,
   "metadata": {},
   "outputs": [],
   "source": [
    "%timeit -n 5 -r 5 hvi.cdf_monte_carlo(avals, n_sample=1e5, eval_sd=True)"
   ]
  }
 ],
 "metadata": {
  "kernelspec": {
   "display_name": "Python 3",
   "language": "python",
   "name": "python3"
  },
  "language_info": {
   "codemirror_mode": {
    "name": "ipython",
    "version": 3
   },
   "file_extension": ".py",
   "mimetype": "text/x-python",
   "name": "python",
   "nbconvert_exporter": "python",
   "pygments_lexer": "ipython3",
   "version": "3.9.7"
  }
 },
 "nbformat": 4,
 "nbformat_minor": 4
}
